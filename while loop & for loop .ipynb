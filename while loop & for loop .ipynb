{
 "cells": [
  {
   "cell_type": "markdown",
   "id": "80ae2765-36f2-405a-9945-b0511629ff7c",
   "metadata": {},
   "source": [
    "# while loop "
   ]
  },
  {
   "cell_type": "code",
   "execution_count": 9,
   "id": "5b376982-6987-4dc1-b9e1-131f4601a536",
   "metadata": {},
   "outputs": [
    {
     "name": "stdout",
     "output_type": "stream",
     "text": [
      "1\n",
      "2\n",
      "3\n"
     ]
    }
   ],
   "source": [
    "n = 4 \n",
    "i = 1\n",
    "while i < n :\n",
    "    print(i)\n",
    "    i = i + 1"
   ]
  },
  {
   "cell_type": "code",
   "execution_count": 2,
   "id": "b8d86f96-abb3-4140-a131-b2aba2db7524",
   "metadata": {},
   "outputs": [
    {
     "name": "stdout",
     "output_type": "stream",
     "text": [
      "1\n",
      "2\n",
      "3\n",
      "4\n",
      "this is my default \n"
     ]
    }
   ],
   "source": [
    "n = 5 \n",
    "i = 1\n",
    "while i < n :\n",
    "    print(i)\n",
    "    i = i + 1\n",
    "else :\n",
    "    print('this is my default ')"
   ]
  },
  {
   "cell_type": "code",
   "execution_count": 3,
   "id": "77b47018-ac09-4951-8f5f-7289d1afe185",
   "metadata": {},
   "outputs": [
    {
     "name": "stdout",
     "output_type": "stream",
     "text": [
      "1\n",
      "2\n",
      "3\n",
      "4\n"
     ]
    }
   ],
   "source": [
    "n = 6 \n",
    "i = 1\n",
    "while i < n :\n",
    "    print(i)\n",
    "    i = i + 1 \n",
    "    if i == 5 :\n",
    "        break \n",
    "else :\n",
    "    print('this is my default ') "
   ]
  },
  {
   "cell_type": "markdown",
   "id": "d04965c3-1555-44eb-989f-cd98772c3e56",
   "metadata": {},
   "source": [
    "# for loop"
   ]
  },
  {
   "cell_type": "code",
   "execution_count": 4,
   "id": "53eb5e93-9949-4f36-a229-afe7310f999b",
   "metadata": {},
   "outputs": [],
   "source": [
    "a = 'ananyo'"
   ]
  },
  {
   "cell_type": "code",
   "execution_count": 5,
   "id": "a0ace811-f6e7-4a96-9a30-7ad160ba5072",
   "metadata": {},
   "outputs": [
    {
     "name": "stdout",
     "output_type": "stream",
     "text": [
      "a\n",
      "n\n",
      "a\n",
      "n\n",
      "y\n",
      "o\n"
     ]
    }
   ],
   "source": [
    "for i in a :\n",
    "    print(i)"
   ]
  },
  {
   "cell_type": "code",
   "execution_count": 6,
   "id": "7ebcc4a4-1754-4176-b89d-ad1ed4d9cf6a",
   "metadata": {},
   "outputs": [],
   "source": [
    "l = [2 , 3 ,4 ,5.6 , 'str' , True ]"
   ]
  },
  {
   "cell_type": "code",
   "execution_count": 7,
   "id": "a289c3a7-893f-49cf-97b0-e3094adf46bf",
   "metadata": {},
   "outputs": [
    {
     "name": "stdout",
     "output_type": "stream",
     "text": [
      "<class 'int'>\n",
      "<class 'int'>\n",
      "<class 'int'>\n",
      "<class 'float'>\n",
      "<class 'str'>\n",
      "<class 'bool'>\n"
     ]
    }
   ],
   "source": [
    "for i in l :\n",
    "    print(type(i))"
   ]
  },
  {
   "cell_type": "code",
   "execution_count": 10,
   "id": "2b72468d-c780-4d9a-84b3-ba7959223253",
   "metadata": {},
   "outputs": [
    {
     "name": "stdout",
     "output_type": "stream",
     "text": [
      "<class 'int'>\n",
      "<class 'int'>\n",
      "<class 'int'>\n",
      "<class 'float'>\n",
      "<class 'str'>\n",
      "<class 'bool'>\n",
      "this is my defult\n"
     ]
    }
   ],
   "source": [
    "for i in l :\n",
    "    print(type(i))\n",
    "else :\n",
    "    print('this is my defult')"
   ]
  },
  {
   "cell_type": "code",
   "execution_count": 11,
   "id": "5c5d4860-f1c7-48ad-bc4a-9475e07f4944",
   "metadata": {},
   "outputs": [
    {
     "name": "stdout",
     "output_type": "stream",
     "text": [
      "<class 'int'>\n",
      "<class 'int'>\n",
      "<class 'int'>\n"
     ]
    }
   ],
   "source": [
    "for i in l :\n",
    "    print(type(i))\n",
    "    if i == 4 :\n",
    "        break\n",
    "else :\n",
    "    print('this is my defult ')"
   ]
  },
  {
   "cell_type": "code",
   "execution_count": 12,
   "id": "6d83e6fa-ae32-4020-9589-171d5c1d95ce",
   "metadata": {},
   "outputs": [
    {
     "data": {
      "text/plain": [
       "[2, 3, 4, 5.6, 'str', True]"
      ]
     },
     "execution_count": 12,
     "metadata": {},
     "output_type": "execute_result"
    }
   ],
   "source": [
    "l "
   ]
  },
  {
   "cell_type": "code",
   "execution_count": 14,
   "id": "d39f7031-8ef6-4a9b-8ec4-71f1f8cb75f6",
   "metadata": {},
   "outputs": [
    {
     "name": "stdout",
     "output_type": "stream",
     "text": [
      "<class 'int'>\n",
      "2\n",
      "<class 'int'>\n",
      "3\n",
      "<class 'int'>\n",
      "<class 'float'>\n",
      "5.6\n",
      "<class 'str'>\n",
      "str\n",
      "<class 'bool'>\n",
      "True\n",
      "this will be executed once for loop will complete itself sucessfully \n"
     ]
    }
   ],
   "source": [
    "for i in l :\n",
    "    print(type(i))\n",
    "    if i == 4 :\n",
    "        continue\n",
    "    print(i)\n",
    "else :\n",
    "    print('this will be executed once for loop will complete itself sucessfully ')\n",
    "     "
   ]
  }
 ],
 "metadata": {
  "kernelspec": {
   "display_name": "Python 3 (ipykernel)",
   "language": "python",
   "name": "python3"
  },
  "language_info": {
   "codemirror_mode": {
    "name": "ipython",
    "version": 3
   },
   "file_extension": ".py",
   "mimetype": "text/x-python",
   "name": "python",
   "nbconvert_exporter": "python",
   "pygments_lexer": "ipython3",
   "version": "3.10.8"
  }
 },
 "nbformat": 4,
 "nbformat_minor": 5
}
