{
 "cells": [
  {
   "cell_type": "code",
   "execution_count": 3,
   "id": "409dc871-b8da-4d60-a931-3e7c00f0e2c2",
   "metadata": {},
   "outputs": [
    {
     "name": "stdout",
     "output_type": "stream",
     "text": [
      "you will be part of a1 batch \n"
     ]
    }
   ],
   "source": [
    "marks = 60\n",
    "if marks >= 80 :\n",
    "    print('you will be a part of a0 batch ')\n",
    "elif marks >= 60 and marks < 80 :\n",
    "    print('you will be part of a1 batch ')\n",
    "elif marks >= 40 and marks < 60 :\n",
    "    print('you will be part of a2 batch ')\n",
    "else :\n",
    "    print('better luck next time' )"
   ]
  },
  {
   "cell_type": "code",
   "execution_count": 4,
   "id": "2380407a-b6fd-44e7-bcb2-15c0395facd8",
   "metadata": {},
   "outputs": [
    {
     "name": "stdout",
     "output_type": "stream",
     "text": [
      "you will be a part of a0 batch \n"
     ]
    }
   ],
   "source": [
    "marks = 80\n",
    "if marks >= 80 :\n",
    "    print('you will be a part of a0 batch ')\n",
    "elif marks >= 60 and marks < 80 :\n",
    "    print('you will be part of a1 batch ')\n",
    "elif marks >= 40 and marks < 60 :\n",
    "    print('you will be part of a2 batch ')\n",
    "else :\n",
    "    print('better luck next time' )"
   ]
  },
  {
   "cell_type": "code",
   "execution_count": 5,
   "id": "7977d000-6ad1-4a5d-977e-01d0791ab7cd",
   "metadata": {},
   "outputs": [
    {
     "name": "stdout",
     "output_type": "stream",
     "text": [
      "you will be part of a1 batch \n"
     ]
    }
   ],
   "source": [
    "marks = 65\n",
    "if marks >= 80 :\n",
    "    print('you will be a part of a0 batch ')\n",
    "elif marks >= 60 and marks < 80 :\n",
    "    print('you will be part of a1 batch ')\n",
    "elif marks >= 40 and marks < 60 :\n",
    "    print('you will be part of a2 batch ')\n",
    "else :\n",
    "    print('better luck next time' )"
   ]
  },
  {
   "cell_type": "code",
   "execution_count": 6,
   "id": "7a02b9c8-9767-4dd9-9a0e-adcfa1eea2f2",
   "metadata": {},
   "outputs": [
    {
     "name": "stdout",
     "output_type": "stream",
     "text": [
      "you will be part of a2 batch \n"
     ]
    }
   ],
   "source": [
    "marks = 47\n",
    "if marks >= 80 :\n",
    "    print('you will be a part of a0 batch ')\n",
    "elif marks >= 60 and marks < 80 :\n",
    "    print('you will be part of a1 batch ')\n",
    "elif marks >= 40 and marks < 60 :\n",
    "    print('you will be part of a2 batch ')\n",
    "else :\n",
    "    print('better luck next time' )"
   ]
  },
  {
   "cell_type": "code",
   "execution_count": 7,
   "id": "71fd7047-5416-4bd3-add3-ef56c7d6ab7a",
   "metadata": {},
   "outputs": [
    {
     "name": "stdout",
     "output_type": "stream",
     "text": [
      "better luck next time\n"
     ]
    }
   ],
   "source": [
    "marks = 37\n",
    "if marks >= 80 :\n",
    "    print('you will be a part of a0 batch ')\n",
    "elif marks >= 60 and marks < 80 :\n",
    "    print('you will be part of a1 batch ')\n",
    "elif marks >= 40 and marks < 60 :\n",
    "    print('you will be part of a2 batch ')\n",
    "else :\n",
    "    print('better luck next time' )"
   ]
  },
  {
   "cell_type": "code",
   "execution_count": 8,
   "id": "d612ad5d-b658-4d79-9f79-b32e9a453be8",
   "metadata": {},
   "outputs": [
    {
     "name": "stdin",
     "output_type": "stream",
     "text": [
      "enter your marks . 87\n"
     ]
    },
    {
     "name": "stdout",
     "output_type": "stream",
     "text": [
      "you will be a part of a0 batch \n"
     ]
    }
   ],
   "source": [
    "marks = int(input('enter your marks .'))\n",
    "if marks >= 80 :\n",
    "    print('you will be a part of a0 batch ')\n",
    "elif marks >= 60 and marks < 80 :\n",
    "    print('you will be part of a1 batch ')\n",
    "elif marks >= 40 and marks < 60 :\n",
    "    print('you will be part of a2 batch ')\n",
    "else :\n",
    "    print('better luck next time' )"
   ]
  },
  {
   "cell_type": "code",
   "execution_count": 9,
   "id": "d4f148aa-2be0-48fc-858c-485e808701af",
   "metadata": {},
   "outputs": [
    {
     "name": "stdout",
     "output_type": "stream",
     "text": [
      "hello momo\n"
     ]
    }
   ],
   "source": [
    "print('hello momo')"
   ]
  },
  {
   "cell_type": "code",
   "execution_count": 10,
   "id": "81da6f4f-8c5d-4871-9640-cc5226630c88",
   "metadata": {},
   "outputs": [
    {
     "name": "stdin",
     "output_type": "stream",
     "text": [
      "enter your budget 1200\n"
     ]
    },
    {
     "name": "stdout",
     "output_type": "stream",
     "text": [
      "I will not purchase .\n"
     ]
    }
   ],
   "source": [
    "price = int(input('enter your budget'))\n",
    "if price > 1000 :\n",
    "    print('I will not purchase .')\n",
    "else :\n",
    "    print('I will purchase .')"
   ]
  },
  {
   "cell_type": "code",
   "execution_count": 11,
   "id": "361b97dd-de8f-4417-a7c6-7d36d25c4db6",
   "metadata": {},
   "outputs": [
    {
     "name": "stdin",
     "output_type": "stream",
     "text": [
      "enter your budget 800\n"
     ]
    },
    {
     "name": "stdout",
     "output_type": "stream",
     "text": [
      "I will purchase .\n"
     ]
    }
   ],
   "source": [
    "price = int(input('enter your budget'))\n",
    "if price > 1000 :\n",
    "    print('I will not purchase .')\n",
    "else :\n",
    "    print('I will purchase .')"
   ]
  },
  {
   "cell_type": "code",
   "execution_count": 12,
   "id": "1bc0dfe7-4387-4d2a-937c-6cd3f9c95dd8",
   "metadata": {},
   "outputs": [
    {
     "name": "stdin",
     "output_type": "stream",
     "text": [
      "enter your budget 7000\n"
     ]
    },
    {
     "name": "stdout",
     "output_type": "stream",
     "text": [
      "I will not purchase .\n"
     ]
    }
   ],
   "source": [
    "price = int(input('enter your budget'))\n",
    "if price > 1000 :\n",
    "    print('I will not purchase .')\n",
    "else :\n",
    "    print('I will purchase .')"
   ]
  },
  {
   "cell_type": "code",
   "execution_count": 13,
   "id": "94740d69-6c23-4a01-97ac-ee40af374db2",
   "metadata": {},
   "outputs": [
    {
     "name": "stdin",
     "output_type": "stream",
     "text": [
      "enter your budget  1110\n"
     ]
    },
    {
     "name": "stdout",
     "output_type": "stream",
     "text": [
      "I will think about it \n"
     ]
    }
   ],
   "source": [
    "price = int(input('enter your budget '))\n",
    "if price >= 2000 :\n",
    "    print('I will not buy it .')\n",
    "elif price >= 1000 and price < 2000 :\n",
    "    print('I will think about it ')\n",
    "elif price >= 500 and price < 1000 :\n",
    "    print('I will definately buy it ')\n",
    "else :\n",
    "    print('I dont buy cheaper products ')"
   ]
  },
  {
   "cell_type": "code",
   "execution_count": 14,
   "id": "f09fc691-843a-4625-8771-ec5e923c0a15",
   "metadata": {},
   "outputs": [
    {
     "name": "stdin",
     "output_type": "stream",
     "text": [
      "enter your budget  200\n"
     ]
    },
    {
     "name": "stdout",
     "output_type": "stream",
     "text": [
      "I dont buy cheaper products \n"
     ]
    }
   ],
   "source": [
    "price = int(input('enter your budget '))\n",
    "if price >= 2000 :\n",
    "    print('I will not buy it .')\n",
    "elif price >= 1000 and price < 2000 :\n",
    "    print('I will think about it ')\n",
    "elif price >= 500 and price < 1000 :\n",
    "    print('I will definately buy it ')\n",
    "else :\n",
    "    print('I dont buy cheaper products ')\n"
   ]
  },
  {
   "cell_type": "code",
   "execution_count": 15,
   "id": "bdb4071e-3987-4a3b-a801-5326b5732f1e",
   "metadata": {},
   "outputs": [
    {
     "name": "stdin",
     "output_type": "stream",
     "text": [
      "enter your budget  700\n"
     ]
    },
    {
     "name": "stdout",
     "output_type": "stream",
     "text": [
      "I will definately buy it \n"
     ]
    }
   ],
   "source": [
    "price = int(input('enter your budget '))\n",
    "if price >= 2000 :\n",
    "    print('I will not buy it .')\n",
    "elif price >= 1000 and price < 2000 :\n",
    "    print('I will think about it ')\n",
    "elif price >= 500 and price < 1000 :\n",
    "    print('I will definately buy it ')\n",
    "else :\n",
    "    print('I dont buy cheaper products ')"
   ]
  },
  {
   "cell_type": "code",
   "execution_count": 16,
   "id": "8094c546-0d40-449c-b552-607819957e6b",
   "metadata": {},
   "outputs": [
    {
     "name": "stdout",
     "output_type": "stream",
     "text": [
      "2\n",
      "3\n",
      "4\n",
      "5\n",
      "6\n",
      "7\n",
      "8\n",
      "9\n"
     ]
    }
   ],
   "source": [
    "l = [1 ,2,3 ,4 ,5 , 6 ,7 ,8 ]\n",
    "for i in l :\n",
    "    print(i+1)"
   ]
  },
  {
   "cell_type": "code",
   "execution_count": 17,
   "id": "1956cbd6-aa53-4034-83b7-bf211f89ba1f",
   "metadata": {},
   "outputs": [
    {
     "data": {
      "text/plain": [
       "[1, 2, 3, 4, 5, 6, 7, 8]"
      ]
     },
     "execution_count": 17,
     "metadata": {},
     "output_type": "execute_result"
    }
   ],
   "source": [
    "l"
   ]
  },
  {
   "cell_type": "code",
   "execution_count": 18,
   "id": "33a912d0-b59a-4e8b-ba53-e9cd51d21696",
   "metadata": {},
   "outputs": [
    {
     "data": {
      "text/plain": [
       "[2, 3, 4, 5, 6, 7, 8, 9]"
      ]
     },
     "execution_count": 18,
     "metadata": {},
     "output_type": "execute_result"
    }
   ],
   "source": [
    "l1 = []\n",
    "for i in l :\n",
    "    l1.append(i+1)\n",
    "l1"
   ]
  },
  {
   "cell_type": "code",
   "execution_count": 19,
   "id": "3bb61d99-9764-4b98-98de-5bc17cedbce3",
   "metadata": {},
   "outputs": [
    {
     "name": "stdout",
     "output_type": "stream",
     "text": [
      "sudh\n",
      "kumar\n",
      "pwskills\n",
      "course\n"
     ]
    }
   ],
   "source": [
    "l2 = ['sudh' , 'kumar' , 'pwskills' , 'course']\n",
    "l3 = []\n",
    "for i in l2 :\n",
    "    print(i)\n",
    "    l3.append(i.upper())\n",
    "\n"
   ]
  },
  {
   "cell_type": "code",
   "execution_count": 20,
   "id": "120c3dcd-7c44-40fa-a493-3e3af1ff1756",
   "metadata": {},
   "outputs": [
    {
     "data": {
      "text/plain": [
       "['SUDH', 'KUMAR', 'PWSKILLS', 'COURSE']"
      ]
     },
     "execution_count": 20,
     "metadata": {},
     "output_type": "execute_result"
    }
   ],
   "source": [
    "l3"
   ]
  },
  {
   "cell_type": "code",
   "execution_count": 21,
   "id": "29d40656-b1d4-41ec-8fd6-e712b18e7677",
   "metadata": {},
   "outputs": [],
   "source": [
    "l4 = [1 , 2,3 ,4 ,5 , 'sudh' , 324 , 34.4565 , 'abc']"
   ]
  },
  {
   "cell_type": "code",
   "execution_count": 22,
   "id": "7da6fe5a-8cf5-4d14-aec1-9d947e484d55",
   "metadata": {},
   "outputs": [],
   "source": [
    "l5_numeric = []\n",
    "l6_string = []\n",
    "for i in l4 :\n",
    "    if type(i) == int or type(i) == float :\n",
    "        l5_numeric.append(i)\n",
    "    else :\n",
    "        l6_string.append(i)\n",
    "        \n",
    "    \n",
    "    "
   ]
  },
  {
   "cell_type": "code",
   "execution_count": 24,
   "id": "6523dcf8-d945-45b0-a402-750045f83f60",
   "metadata": {},
   "outputs": [
    {
     "data": {
      "text/plain": [
       "[1, 2, 3, 4, 5, 324, 34.4565]"
      ]
     },
     "execution_count": 24,
     "metadata": {},
     "output_type": "execute_result"
    }
   ],
   "source": [
    "l5_numeric"
   ]
  },
  {
   "cell_type": "code",
   "execution_count": 25,
   "id": "0489c9f0-d436-4771-8885-7ab4fed6c10b",
   "metadata": {},
   "outputs": [
    {
     "data": {
      "text/plain": [
       "['sudh', 'abc']"
      ]
     },
     "execution_count": 25,
     "metadata": {},
     "output_type": "execute_result"
    }
   ],
   "source": [
    "l6_string"
   ]
  },
  {
   "cell_type": "code",
   "execution_count": 26,
   "id": "8f0ef71d-7aa8-4f37-a223-3bb995413e4a",
   "metadata": {},
   "outputs": [],
   "source": [
    "l7 = [ 'momo' , 'ananyo' , 'pop' , 234 , 34 ,2.3 , 78 ,89.97]"
   ]
  },
  {
   "cell_type": "code",
   "execution_count": 27,
   "id": "f7b671ed-2d57-4f32-b459-858ab4d709b2",
   "metadata": {},
   "outputs": [
    {
     "data": {
      "text/plain": [
       "['momo', 'ananyo', 'pop', 234, 34, 2.3, 78, 89.97]"
      ]
     },
     "execution_count": 27,
     "metadata": {},
     "output_type": "execute_result"
    }
   ],
   "source": [
    "l7"
   ]
  },
  {
   "cell_type": "code",
   "execution_count": 29,
   "id": "33458a4c-fc38-4499-8de8-465e19159d90",
   "metadata": {},
   "outputs": [],
   "source": [
    "l8_num = []\n",
    "l9_str = []\n",
    "for i in l7 :\n",
    "    if type(i) == int or type(i) == float :\n",
    "        l8_num.append(i)\n",
    "    else :\n",
    "        l9_str.append(i)"
   ]
  },
  {
   "cell_type": "code",
   "execution_count": 30,
   "id": "42cb6208-ab0f-4825-815b-24647a4f5155",
   "metadata": {},
   "outputs": [
    {
     "data": {
      "text/plain": [
       "[234, 34, 2.3, 78, 89.97]"
      ]
     },
     "execution_count": 30,
     "metadata": {},
     "output_type": "execute_result"
    }
   ],
   "source": [
    "l8_num"
   ]
  },
  {
   "cell_type": "code",
   "execution_count": 31,
   "id": "7fb32498-f0cb-4d12-85bc-f29a8e44e561",
   "metadata": {},
   "outputs": [
    {
     "data": {
      "text/plain": [
       "['momo', 'ananyo', 'pop']"
      ]
     },
     "execution_count": 31,
     "metadata": {},
     "output_type": "execute_result"
    }
   ],
   "source": [
    "l9_str"
   ]
  },
  {
   "cell_type": "code",
   "execution_count": null,
   "id": "48f589f8-8173-4bd8-b6b6-af2f50acbf01",
   "metadata": {},
   "outputs": [],
   "source": []
  }
 ],
 "metadata": {
  "kernelspec": {
   "display_name": "Python 3 (ipykernel)",
   "language": "python",
   "name": "python3"
  },
  "language_info": {
   "codemirror_mode": {
    "name": "ipython",
    "version": 3
   },
   "file_extension": ".py",
   "mimetype": "text/x-python",
   "name": "python",
   "nbconvert_exporter": "python",
   "pygments_lexer": "ipython3",
   "version": "3.10.8"
  }
 },
 "nbformat": 4,
 "nbformat_minor": 5
}
