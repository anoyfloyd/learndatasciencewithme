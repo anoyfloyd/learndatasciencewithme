{
 "cells": [
  {
   "cell_type": "code",
   "execution_count": 2,
   "id": "07621335",
   "metadata": {},
   "outputs": [],
   "source": [
    "l = [1 , 2, 3, 4, 7 + 8j , 'lol' , 34.45 , [1,2,3] ]"
   ]
  },
  {
   "cell_type": "code",
   "execution_count": 8,
   "id": "95751516",
   "metadata": {},
   "outputs": [],
   "source": [
    "l1 = []\n",
    "for i in l :\n",
    "    if type(i) == float or type(i) == int :\n",
    "        l1.append(i)"
   ]
  },
  {
   "cell_type": "code",
   "execution_count": 9,
   "id": "2284507d",
   "metadata": {},
   "outputs": [
    {
     "data": {
      "text/plain": [
       "[1, 2, 3, 4, 34.45]"
      ]
     },
     "execution_count": 9,
     "metadata": {},
     "output_type": "execute_result"
    }
   ],
   "source": [
    "l1"
   ]
  },
  {
   "cell_type": "code",
   "execution_count": 10,
   "id": "b3af489e",
   "metadata": {},
   "outputs": [],
   "source": [
    "l1 =[]\n",
    "def test1(a) :\n",
    "    for i in a :\n",
    "        if type(i) == list :\n",
    "            for j in i :\n",
    "                l1.append(j)\n",
    "    return l1"
   ]
  },
  {
   "cell_type": "code",
   "execution_count": 11,
   "id": "85f2f633",
   "metadata": {},
   "outputs": [
    {
     "data": {
      "text/plain": [
       "[1, 2, 3]"
      ]
     },
     "execution_count": 11,
     "metadata": {},
     "output_type": "execute_result"
    }
   ],
   "source": [
    "test1(l)"
   ]
  },
  {
   "cell_type": "code",
   "execution_count": 15,
   "id": "7c072d03",
   "metadata": {},
   "outputs": [],
   "source": [
    "# def test2(*arg) :\n",
    "#     arg"
   ]
  },
  {
   "cell_type": "code",
   "execution_count": 16,
   "id": "032de2e3",
   "metadata": {},
   "outputs": [],
   "source": [
    "# test2('lol' , 'ananyo' ,8 , 7 , 6 ,3 ,2)"
   ]
  },
  {
   "cell_type": "code",
   "execution_count": 17,
   "id": "e5d60927",
   "metadata": {},
   "outputs": [],
   "source": [
    "def test2(*args) :\n",
    "    return args"
   ]
  },
  {
   "cell_type": "markdown",
   "id": "65db6cc3",
   "metadata": {},
   "source": []
  },
  {
   "cell_type": "code",
   "execution_count": 19,
   "id": "b855c302",
   "metadata": {},
   "outputs": [
    {
     "data": {
      "text/plain": [
       "('lol', 'who', 'cares', 7, 8)"
      ]
     },
     "execution_count": 19,
     "metadata": {},
     "output_type": "execute_result"
    }
   ],
   "source": [
    "test2('lol' ,'who' ,'cares' , 7 , 8 )"
   ]
  },
  {
   "cell_type": "code",
   "execution_count": 20,
   "id": "7a490412",
   "metadata": {},
   "outputs": [],
   "source": [
    "def test3(*args , a) :\n",
    "    return args , a\n",
    "    "
   ]
  },
  {
   "cell_type": "code",
   "execution_count": 21,
   "id": "82944ff0",
   "metadata": {},
   "outputs": [
    {
     "data": {
      "text/plain": [
       "((9, 10, 11, 13), 15)"
      ]
     },
     "execution_count": 21,
     "metadata": {},
     "output_type": "execute_result"
    }
   ],
   "source": [
    "test3(9,10 , 11, 13 , a = 15)"
   ]
  },
  {
   "cell_type": "code",
   "execution_count": 22,
   "id": "c35580f5",
   "metadata": {},
   "outputs": [],
   "source": [
    "def test4(c , d ,a = 23 , b = 1 ) :\n",
    "    return a , b ,c ,d\n"
   ]
  },
  {
   "cell_type": "code",
   "execution_count": 23,
   "id": "60da984d",
   "metadata": {},
   "outputs": [
    {
     "data": {
      "text/plain": [
       "(23, 1, 23, 45)"
      ]
     },
     "execution_count": 23,
     "metadata": {},
     "output_type": "execute_result"
    }
   ],
   "source": [
    "test4(23 , 45 )"
   ]
  },
  {
   "cell_type": "code",
   "execution_count": 25,
   "id": "8b35c570",
   "metadata": {},
   "outputs": [
    {
     "data": {
      "text/plain": [
       "(23, 1, 2, 5)"
      ]
     },
     "execution_count": 25,
     "metadata": {},
     "output_type": "execute_result"
    }
   ],
   "source": [
    "test4(2,5)"
   ]
  },
  {
   "cell_type": "code",
   "execution_count": 26,
   "id": "2a96d42d",
   "metadata": {},
   "outputs": [],
   "source": [
    "def test(**kwargs) :\n",
    "    return kwargs"
   ]
  },
  {
   "cell_type": "code",
   "execution_count": 27,
   "id": "6382558e",
   "metadata": {},
   "outputs": [
    {
     "data": {
      "text/plain": [
       "{}"
      ]
     },
     "execution_count": 27,
     "metadata": {},
     "output_type": "execute_result"
    }
   ],
   "source": [
    "test()"
   ]
  },
  {
   "cell_type": "code",
   "execution_count": 28,
   "id": "88f54349",
   "metadata": {},
   "outputs": [
    {
     "data": {
      "text/plain": [
       "dict"
      ]
     },
     "execution_count": 28,
     "metadata": {},
     "output_type": "execute_result"
    }
   ],
   "source": [
    "type(test())"
   ]
  },
  {
   "cell_type": "code",
   "execution_count": 29,
   "id": "688d3237",
   "metadata": {},
   "outputs": [
    {
     "data": {
      "text/plain": [
       "{'a': [1, 2, 3, 4], 'b': 'lol', 'c': 'who', 'd': 'cares'}"
      ]
     },
     "execution_count": 29,
     "metadata": {},
     "output_type": "execute_result"
    }
   ],
   "source": [
    "test(a = [1,2,3,4] , b = 'lol' , c = 'who' , d = 'cares')"
   ]
  },
  {
   "cell_type": "markdown",
   "id": "6c39243b",
   "metadata": {},
   "source": [
    "## generator function "
   ]
  },
  {
   "cell_type": "code",
   "execution_count": 31,
   "id": "347bf1ef",
   "metadata": {},
   "outputs": [
    {
     "data": {
      "text/plain": [
       "range(0, 10)"
      ]
     },
     "execution_count": 31,
     "metadata": {},
     "output_type": "execute_result"
    }
   ],
   "source": [
    "range(10)"
   ]
  },
  {
   "cell_type": "code",
   "execution_count": 32,
   "id": "6d8c891b",
   "metadata": {},
   "outputs": [
    {
     "name": "stdout",
     "output_type": "stream",
     "text": [
      "0\n",
      "1\n",
      "2\n",
      "3\n",
      "4\n",
      "5\n",
      "6\n",
      "7\n",
      "8\n",
      "9\n"
     ]
    }
   ],
   "source": [
    "for i in range(10) :\n",
    "    print(i)"
   ]
  },
  {
   "cell_type": "code",
   "execution_count": 36,
   "id": "a0e9e060",
   "metadata": {},
   "outputs": [],
   "source": [
    "def test_fib(n) :\n",
    "    a,b = 0 , 1\n",
    "    for i in range(n) :\n",
    "        yield a\n",
    "        a,b = b, a+b"
   ]
  },
  {
   "cell_type": "code",
   "execution_count": 37,
   "id": "13ba3a95",
   "metadata": {},
   "outputs": [
    {
     "name": "stdout",
     "output_type": "stream",
     "text": [
      "0\n",
      "1\n",
      "1\n",
      "2\n",
      "3\n",
      "5\n",
      "8\n",
      "13\n",
      "21\n",
      "34\n"
     ]
    }
   ],
   "source": [
    "for i in test_fib(10) :\n",
    "    print(i)"
   ]
  },
  {
   "cell_type": "code",
   "execution_count": 46,
   "id": "5481f739",
   "metadata": {},
   "outputs": [],
   "source": [
    "def test_fib1(n) :\n",
    "    a,b = 0,1\n",
    "    for i in range(n) :\n",
    "        yield a\n",
    "        a,b = b , a+b\n",
    "        \n",
    "            \n",
    " \n",
    "        "
   ]
  },
  {
   "cell_type": "code",
   "execution_count": 63,
   "id": "98fcdadb",
   "metadata": {},
   "outputs": [
    {
     "name": "stdout",
     "output_type": "stream",
     "text": [
      "0\n",
      "1\n",
      "1\n",
      "2\n",
      "3\n",
      "5\n",
      "8\n",
      "13\n",
      "21\n",
      "34\n"
     ]
    }
   ],
   "source": [
    "for i in test_fib1(10) :\n",
    "    print(i)"
   ]
  },
  {
   "cell_type": "code",
   "execution_count": 48,
   "id": "d88ea88e",
   "metadata": {},
   "outputs": [],
   "source": [
    "a = 'ananyo'"
   ]
  },
  {
   "cell_type": "code",
   "execution_count": 49,
   "id": "e7d88717",
   "metadata": {},
   "outputs": [
    {
     "name": "stdout",
     "output_type": "stream",
     "text": [
      "a\n",
      "n\n",
      "a\n",
      "n\n",
      "y\n",
      "o\n"
     ]
    }
   ],
   "source": [
    "for i in a :\n",
    "    print(i)"
   ]
  },
  {
   "cell_type": "code",
   "execution_count": 51,
   "id": "5c8a6541",
   "metadata": {},
   "outputs": [],
   "source": [
    "# next(a) "
   ]
  },
  {
   "cell_type": "code",
   "execution_count": 52,
   "id": "f4b73a8e",
   "metadata": {},
   "outputs": [],
   "source": [
    "a1 = iter(a)"
   ]
  },
  {
   "cell_type": "code",
   "execution_count": 53,
   "id": "420fadde",
   "metadata": {},
   "outputs": [
    {
     "data": {
      "text/plain": [
       "'a'"
      ]
     },
     "execution_count": 53,
     "metadata": {},
     "output_type": "execute_result"
    }
   ],
   "source": [
    "next(a1)"
   ]
  },
  {
   "cell_type": "code",
   "execution_count": 54,
   "id": "db3afde3",
   "metadata": {},
   "outputs": [
    {
     "data": {
      "text/plain": [
       "'n'"
      ]
     },
     "execution_count": 54,
     "metadata": {},
     "output_type": "execute_result"
    }
   ],
   "source": [
    "next(a1)"
   ]
  },
  {
   "cell_type": "code",
   "execution_count": 55,
   "id": "44be6204",
   "metadata": {},
   "outputs": [
    {
     "data": {
      "text/plain": [
       "'a'"
      ]
     },
     "execution_count": 55,
     "metadata": {},
     "output_type": "execute_result"
    }
   ],
   "source": [
    "next(a1)"
   ]
  },
  {
   "cell_type": "code",
   "execution_count": 56,
   "id": "90bbe13d",
   "metadata": {},
   "outputs": [
    {
     "data": {
      "text/plain": [
       "'n'"
      ]
     },
     "execution_count": 56,
     "metadata": {},
     "output_type": "execute_result"
    }
   ],
   "source": [
    "next(a1)"
   ]
  },
  {
   "cell_type": "code",
   "execution_count": 57,
   "id": "f0e3e6a1",
   "metadata": {},
   "outputs": [
    {
     "data": {
      "text/plain": [
       "'y'"
      ]
     },
     "execution_count": 57,
     "metadata": {},
     "output_type": "execute_result"
    }
   ],
   "source": [
    "next(a1)"
   ]
  },
  {
   "cell_type": "code",
   "execution_count": 58,
   "id": "9ebc3333",
   "metadata": {},
   "outputs": [
    {
     "data": {
      "text/plain": [
       "'o'"
      ]
     },
     "execution_count": 58,
     "metadata": {},
     "output_type": "execute_result"
    }
   ],
   "source": [
    "next(a1)"
   ]
  },
  {
   "cell_type": "code",
   "execution_count": 59,
   "id": "5e69b60f",
   "metadata": {},
   "outputs": [
    {
     "data": {
      "text/plain": [
       "str_ascii_iterator"
      ]
     },
     "execution_count": 59,
     "metadata": {},
     "output_type": "execute_result"
    }
   ],
   "source": [
    "type(a1)"
   ]
  },
  {
   "cell_type": "code",
   "execution_count": 77,
   "id": "d8212348",
   "metadata": {},
   "outputs": [],
   "source": [
    "def test_fib() :\n",
    "    a,b = 0,1\n",
    "    while True:\n",
    "        yield a \n",
    "        a,b = b , a+b\n",
    "        "
   ]
  },
  {
   "cell_type": "code",
   "execution_count": 78,
   "id": "3d47a5b2",
   "metadata": {},
   "outputs": [],
   "source": [
    "fib = test_fib()"
   ]
  },
  {
   "cell_type": "code",
   "execution_count": 79,
   "id": "5ed700bd",
   "metadata": {},
   "outputs": [
    {
     "name": "stdout",
     "output_type": "stream",
     "text": [
      "0\n",
      "1\n",
      "1\n",
      "2\n",
      "3\n",
      "5\n",
      "8\n",
      "13\n",
      "21\n",
      "34\n"
     ]
    }
   ],
   "source": [
    "for i in range(10):\n",
    "    print(next(fib))"
   ]
  },
  {
   "cell_type": "markdown",
   "id": "33023445",
   "metadata": {},
   "source": [
    "lambda function\n"
   ]
  },
  {
   "cell_type": "code",
   "execution_count": 80,
   "id": "c8001de9",
   "metadata": {},
   "outputs": [],
   "source": [
    "# lambda is a reserved keyword \n"
   ]
  },
  {
   "cell_type": "code",
   "execution_count": 83,
   "id": "bf424466",
   "metadata": {},
   "outputs": [],
   "source": [
    "a = lambda n , p : n**p \n",
    "# 1 linear or anonymous function "
   ]
  },
  {
   "cell_type": "code",
   "execution_count": 82,
   "id": "7f136a6c",
   "metadata": {},
   "outputs": [
    {
     "data": {
      "text/plain": [
       "9"
      ]
     },
     "execution_count": 82,
     "metadata": {},
     "output_type": "execute_result"
    }
   ],
   "source": [
    "a(3,2)"
   ]
  },
  {
   "cell_type": "code",
   "execution_count": 84,
   "id": "50d23a8e",
   "metadata": {},
   "outputs": [],
   "source": [
    "add = lambda x,y : x+y"
   ]
  },
  {
   "cell_type": "code",
   "execution_count": 85,
   "id": "f1fead67",
   "metadata": {},
   "outputs": [
    {
     "data": {
      "text/plain": [
       "9"
      ]
     },
     "execution_count": 85,
     "metadata": {},
     "output_type": "execute_result"
    }
   ],
   "source": [
    "add(3,6)"
   ]
  },
  {
   "cell_type": "code",
   "execution_count": 86,
   "id": "38fca812",
   "metadata": {},
   "outputs": [],
   "source": [
    "c_to_F = lambda c :(9/5)*c + 32"
   ]
  },
  {
   "cell_type": "code",
   "execution_count": 87,
   "id": "9c9a4bf9",
   "metadata": {},
   "outputs": [
    {
     "data": {
      "text/plain": [
       "113.0"
      ]
     },
     "execution_count": 87,
     "metadata": {},
     "output_type": "execute_result"
    }
   ],
   "source": [
    "c_to_F(45)"
   ]
  },
  {
   "cell_type": "code",
   "execution_count": 88,
   "id": "252eb48d",
   "metadata": {},
   "outputs": [],
   "source": [
    "finding_max = lambda x,y : x if x > y else y"
   ]
  },
  {
   "cell_type": "code",
   "execution_count": 89,
   "id": "02d75b5d",
   "metadata": {},
   "outputs": [
    {
     "data": {
      "text/plain": [
       "21"
      ]
     },
     "execution_count": 89,
     "metadata": {},
     "output_type": "execute_result"
    }
   ],
   "source": [
    "finding_max(9,21)"
   ]
  },
  {
   "cell_type": "code",
   "execution_count": 90,
   "id": "24c4f156",
   "metadata": {},
   "outputs": [
    {
     "data": {
      "text/plain": [
       "34"
      ]
     },
     "execution_count": 90,
     "metadata": {},
     "output_type": "execute_result"
    }
   ],
   "source": [
    "finding_max(34,23)"
   ]
  },
  {
   "cell_type": "code",
   "execution_count": 91,
   "id": "b7911f8a",
   "metadata": {},
   "outputs": [],
   "source": [
    "s = 'pwskills'"
   ]
  },
  {
   "cell_type": "code",
   "execution_count": 92,
   "id": "071a0710",
   "metadata": {},
   "outputs": [],
   "source": [
    "find_len = lambda s : len(s)"
   ]
  },
  {
   "cell_type": "code",
   "execution_count": 93,
   "id": "477ab1bf",
   "metadata": {},
   "outputs": [
    {
     "data": {
      "text/plain": [
       "8"
      ]
     },
     "execution_count": 93,
     "metadata": {},
     "output_type": "execute_result"
    }
   ],
   "source": [
    "find_len(s)"
   ]
  },
  {
   "cell_type": "markdown",
   "id": "985ac411",
   "metadata": {},
   "source": [
    "map , reduce , filter functions"
   ]
  },
  {
   "cell_type": "code",
   "execution_count": 94,
   "id": "dc6d773f",
   "metadata": {},
   "outputs": [],
   "source": [
    "l = [2,3,4,5,6,7]"
   ]
  },
  {
   "cell_type": "code",
   "execution_count": 95,
   "id": "e1d4c99d",
   "metadata": {},
   "outputs": [],
   "source": [
    "def test(l) :\n",
    "    l1 =[]\n",
    "    for i in l :\n",
    "        l1.append(i**2)\n",
    "        return l1"
   ]
  },
  {
   "cell_type": "code",
   "execution_count": 96,
   "id": "f72fc065",
   "metadata": {},
   "outputs": [
    {
     "data": {
      "text/plain": [
       "[4]"
      ]
     },
     "execution_count": 96,
     "metadata": {},
     "output_type": "execute_result"
    }
   ],
   "source": [
    "test(l)"
   ]
  },
  {
   "cell_type": "code",
   "execution_count": 97,
   "id": "f0accfe4",
   "metadata": {},
   "outputs": [],
   "source": [
    "def sq(x) :\n",
    "    return x**2"
   ]
  },
  {
   "cell_type": "code",
   "execution_count": 98,
   "id": "716afe5c",
   "metadata": {},
   "outputs": [
    {
     "data": {
      "text/plain": [
       "[4, 9, 16, 25, 36, 49]"
      ]
     },
     "execution_count": 98,
     "metadata": {},
     "output_type": "execute_result"
    }
   ],
   "source": [
    "list(map(sq , l))"
   ]
  },
  {
   "cell_type": "code",
   "execution_count": 99,
   "id": "03309dc1",
   "metadata": {},
   "outputs": [],
   "source": [
    "add_f = lambda x ,y : x+y"
   ]
  },
  {
   "cell_type": "code",
   "execution_count": 100,
   "id": "41a9bd43",
   "metadata": {},
   "outputs": [
    {
     "data": {
      "text/plain": [
       "5"
      ]
     },
     "execution_count": 100,
     "metadata": {},
     "output_type": "execute_result"
    }
   ],
   "source": [
    "add_f(2,3)"
   ]
  },
  {
   "cell_type": "code",
   "execution_count": 101,
   "id": "3cec30f3",
   "metadata": {},
   "outputs": [
    {
     "data": {
      "text/plain": [
       "[4, 9, 16, 25, 36, 49]"
      ]
     },
     "execution_count": 101,
     "metadata": {},
     "output_type": "execute_result"
    }
   ],
   "source": [
    "list(map(lambda x : x ** 2 , l))"
   ]
  },
  {
   "cell_type": "code",
   "execution_count": 102,
   "id": "b5fcec15",
   "metadata": {},
   "outputs": [],
   "source": [
    "l1 = [1,2,3,4,5,6]"
   ]
  },
  {
   "cell_type": "code",
   "execution_count": 103,
   "id": "cd2e2215",
   "metadata": {},
   "outputs": [],
   "source": [
    "l2 = [7,8 ,9 ,10,11 ,12]"
   ]
  },
  {
   "cell_type": "code",
   "execution_count": 104,
   "id": "905b193f",
   "metadata": {},
   "outputs": [
    {
     "data": {
      "text/plain": [
       "[8, 10, 12, 14, 16, 18]"
      ]
     },
     "execution_count": 104,
     "metadata": {},
     "output_type": "execute_result"
    }
   ],
   "source": [
    "list(map(lambda x , y :x + y , l1 ,l2))"
   ]
  },
  {
   "cell_type": "code",
   "execution_count": 105,
   "id": "4e656490",
   "metadata": {},
   "outputs": [],
   "source": [
    "def add(x,y) :\n",
    "    return x+y"
   ]
  },
  {
   "cell_type": "code",
   "execution_count": 107,
   "id": "2d1eb384",
   "metadata": {},
   "outputs": [
    {
     "data": {
      "text/plain": [
       "[8, 10, 12, 14, 16, 18]"
      ]
     },
     "execution_count": 107,
     "metadata": {},
     "output_type": "execute_result"
    }
   ],
   "source": [
    "list(map(add ,l1,l2))"
   ]
  },
  {
   "cell_type": "code",
   "execution_count": 109,
   "id": "38db0d0c",
   "metadata": {},
   "outputs": [
    {
     "data": {
      "text/plain": [
       "['P', 'W', 'S', 'K', 'I', 'L', 'L', 'S']"
      ]
     },
     "execution_count": 109,
     "metadata": {},
     "output_type": "execute_result"
    }
   ],
   "source": [
    "s = 'pwskills'\n",
    "list(map(lambda s : s.upper(),s))"
   ]
  },
  {
   "cell_type": "markdown",
   "id": "7c854c18",
   "metadata": {},
   "source": [
    "reduce"
   ]
  },
  {
   "cell_type": "code",
   "execution_count": 112,
   "id": "4cff6372",
   "metadata": {},
   "outputs": [],
   "source": [
    "from functools import reduce"
   ]
  },
  {
   "cell_type": "code",
   "execution_count": 113,
   "id": "321ab6dc",
   "metadata": {},
   "outputs": [],
   "source": [
    "l = [1,3,4,5,6,7]"
   ]
  },
  {
   "cell_type": "code",
   "execution_count": 114,
   "id": "6260eca1",
   "metadata": {},
   "outputs": [
    {
     "data": {
      "text/plain": [
       "26"
      ]
     },
     "execution_count": 114,
     "metadata": {},
     "output_type": "execute_result"
    }
   ],
   "source": [
    "reduce(lambda x,y : x+y , l)"
   ]
  },
  {
   "cell_type": "code",
   "execution_count": 115,
   "id": "7628e235",
   "metadata": {},
   "outputs": [
    {
     "data": {
      "text/plain": [
       "7"
      ]
     },
     "execution_count": 115,
     "metadata": {},
     "output_type": "execute_result"
    }
   ],
   "source": [
    "reduce(lambda x, y : x if x > y else y ,l)"
   ]
  },
  {
   "cell_type": "markdown",
   "id": "0751f855",
   "metadata": {},
   "source": [
    "# filter \n"
   ]
  },
  {
   "cell_type": "code",
   "execution_count": 116,
   "id": "9506d19d",
   "metadata": {},
   "outputs": [
    {
     "data": {
      "text/plain": [
       "[4, 6]"
      ]
     },
     "execution_count": 116,
     "metadata": {},
     "output_type": "execute_result"
    }
   ],
   "source": [
    "list(filter(lambda x : x%2 == 0 , l))"
   ]
  },
  {
   "cell_type": "code",
   "execution_count": 117,
   "id": "27ada225",
   "metadata": {},
   "outputs": [],
   "source": [
    "l1 = [-3 ,4,5,6,-1 , -5]"
   ]
  },
  {
   "cell_type": "code",
   "execution_count": 119,
   "id": "940ed881",
   "metadata": {},
   "outputs": [
    {
     "data": {
      "text/plain": [
       "[-3, -1, -5]"
      ]
     },
     "execution_count": 119,
     "metadata": {},
     "output_type": "execute_result"
    }
   ],
   "source": [
    "list(filter(lambda x : x <0 , l1))"
   ]
  },
  {
   "cell_type": "code",
   "execution_count": 120,
   "id": "2cc6f821",
   "metadata": {},
   "outputs": [],
   "source": [
    "l2 = ['momo','lol','pwskills','IIT','krish']"
   ]
  },
  {
   "cell_type": "code",
   "execution_count": 121,
   "id": "b390dd95",
   "metadata": {},
   "outputs": [
    {
     "data": {
      "text/plain": [
       "['momo', 'lol', 'IIT', 'krish']"
      ]
     },
     "execution_count": 121,
     "metadata": {},
     "output_type": "execute_result"
    }
   ],
   "source": [
    "list(filter(lambda x : len(x)<6 , l2))"
   ]
  },
  {
   "cell_type": "code",
   "execution_count": null,
   "id": "18584933",
   "metadata": {},
   "outputs": [],
   "source": []
  }
 ],
 "metadata": {
  "kernelspec": {
   "display_name": "Python 3 (ipykernel)",
   "language": "python",
   "name": "python3"
  },
  "language_info": {
   "codemirror_mode": {
    "name": "ipython",
    "version": 3
   },
   "file_extension": ".py",
   "mimetype": "text/x-python",
   "name": "python",
   "nbconvert_exporter": "python",
   "pygments_lexer": "ipython3",
   "version": "3.11.5"
  }
 },
 "nbformat": 4,
 "nbformat_minor": 5
}
